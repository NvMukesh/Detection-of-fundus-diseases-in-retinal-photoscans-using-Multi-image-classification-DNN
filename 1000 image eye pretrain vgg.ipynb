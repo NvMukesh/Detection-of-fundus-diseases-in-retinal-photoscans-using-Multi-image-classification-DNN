{
 "cells": [
  {
   "attachments": {},
   "cell_type": "markdown",
   "metadata": {},
   "source": [
    "  <tr>\n",
    "        <td width=\"15%\">\n",
    "        </td>\n",
    "        <td>\n",
    "            <div align=\"Middle\">\n",
    "                <font size=25px>\n",
    "                    <b>  Detection of fundus diseases in retinal photoscans using Multi image classification deep neural networks\n",
    "                    </b>\n",
    "                </font>\n",
    "            </div>\n",
    "        </td>\n",
    "    </tr>"
   ]
  },
  {
   "attachments": {},
   "cell_type": "markdown",
   "metadata": {},
   "source": [
    "## Problem Statement:\n",
    "The problem of detection of disease and condition to the fundus of an eye is done after multiple consultation. Due to the nature of fundus many issues of fundus be easily undiagnosed."
   ]
  },
  {
   "attachments": {},
   "cell_type": "markdown",
   "metadata": {},
   "source": [
    "# Data Definition:\n",
    "\n",
    "*Here the dataset consist of 1000 images of photoretinal scans of Fundus of an eye.\n",
    "\n",
    "*In which it spans of 38 diseases and normal classes."
   ]
  },
  {
   "attachments": {},
   "cell_type": "markdown",
   "metadata": {},
   "source": [
    "# Content\n",
    "\n",
    "**[1. Import Python modules](#1)**<br>\n",
    "**[2. Load dataset dictionary](#2)**<br>&emsp;\n",
    "**[2.1. Image Dictionary](#2.1)**<br>&emsp;\n",
    "**[2.2. Label Dictionary](#2.2)**<br>\n",
    "**[3. Importing and resizing the images in to Tensor](#3)**<br>&emsp;\n",
    "**[3.1. Saving the tensor for future imports](#3.1)**<br>&emsp;\n",
    "**[3.2. Loading the image Tensors](#3.2)**<br>&emsp;\n",
    "**[3.3. Converting the Tensor list into Array](#3.3)**<br>\n",
    "**[4. Train test split the X and Y Data](#4)**<br>&emsp;\n",
    "**[4.1. Scalling the X data array to 255 so the training will be the pixel range ](#4.1)**<br>\n",
    "**[5. Building the Model](#5)**<br>&emsp;\n",
    "**[5.1. Downloading the Pre-Trained model Mobilenet_v2](#5.1)**<br>\n",
    "**[6. Model Training](#6)**<br>&emsp;\n",
    "**[6.1. Saving the Trained model](#6.1)**<br>\n",
    "**[7. Model Evaluation](#7)**<br>\n",
    "**[8. Prediction of single image](#8)**<br>\n",
    "\n"
   ]
  },
  {
   "attachments": {},
   "cell_type": "markdown",
   "metadata": {},
   "source": [
    "<a id='1'></a>\n",
    "## 1. Import Python modules"
   ]
  },
  {
   "cell_type": "code",
   "execution_count": 1,
   "metadata": {},
   "outputs": [],
   "source": [
    "import numpy as np\n",
    "import pandas as pd\n",
    "import matplotlib.pyplot as plt\n",
    "import cv2\n",
    "import os\n",
    "import PIL\n",
    "import pathlib\n",
    "from tqdm import tqdm\n",
    "import numpy as np\n",
    "import matplotlib.pyplot as plt\n",
    "import seaborn as sns\n",
    "%matplotlib inline\n",
    "\n",
    "import cv2\n",
    "import os\n",
    "os.environ[\"TF_CPP_MIN_LOG_LEVEL\"] = \"2\"\n",
    "import warnings\n",
    "warnings.filterwarnings('ignore')\n",
    "\n",
    "from sklearn.metrics import confusion_matrix, classification_report\n",
    "\n",
    "import tensorflow as tf\n",
    "from tensorflow.keras.models import Sequential\n",
    "from tensorflow.keras.layers import Activation, BatchNormalization, Conv2D, Dense, Dropout, Flatten, MaxPooling2D\n",
    "from tensorflow.keras.preprocessing.image import ImageDataGenerator\n",
    "from tensorflow.keras.optimizers import Adam\n",
    "from tensorflow.keras.losses import CategoricalCrossentropy\n",
    "from tensorflow.keras.regularizers import l2\n",
    "from tensorflow.keras.callbacks import ReduceLROnPlateau, EarlyStopping\n",
    "import joblib\n",
    "import pickle\n",
    "\n",
    "from sklearn.model_selection import train_test_split\n",
    "\n",
    "from tensorflow.keras.preprocessing.image import ImageDataGenerator\n",
    "\n",
    "import tensorflow_hub as hub\n",
    "from tensorflow import keras\n",
    "from tensorflow.keras import layers\n",
    "from tensorflow.keras.models import Sequential"
   ]
  },
  {
   "attachments": {},
   "cell_type": "markdown",
   "metadata": {},
   "source": [
    "* Directory control"
   ]
  },
  {
   "cell_type": "code",
   "execution_count": 2,
   "metadata": {},
   "outputs": [
    {
     "data": {
      "text/plain": [
       "'e:\\\\DS workspace\\\\ML DL Python\\\\aca tor dataset\\\\1000 images eye - Medical\\\\1000 image notebook'"
      ]
     },
     "execution_count": 2,
     "metadata": {},
     "output_type": "execute_result"
    }
   ],
   "source": [
    "#pwd\n",
    "os.getcwd( )\n",
    "#os.chdir('desired filepath here') "
   ]
  },
  {
   "attachments": {},
   "cell_type": "markdown",
   "metadata": {},
   "source": [
    "* list of directories for the Fundus diseases"
   ]
  },
  {
   "cell_type": "code",
   "execution_count": 3,
   "metadata": {},
   "outputs": [
    {
     "data": {
      "text/plain": [
       "['0.0.Normal',\n",
       " '0.1.Tessellated fundus',\n",
       " '0.2.Large optic cup',\n",
       " '0.3.DR1',\n",
       " '1.0.DR2',\n",
       " '1.1.DR3',\n",
       " '10.0.Possible glaucoma',\n",
       " '10.1.Optic atrophy',\n",
       " '11.Severe hypertensive retinopathy',\n",
       " '12.Disc swelling and elevation',\n",
       " '13.Dragged Disc',\n",
       " '14.Congenital disc abnormality',\n",
       " '15.0.Retinitis pigmentosa',\n",
       " '15.1.Bietti crystalline dystrophy',\n",
       " '16.Peripheral retinal degeneration and break',\n",
       " '17.Myelinated nerve fiber',\n",
       " '18.Vitreous particles',\n",
       " '19.Fundus neoplasm',\n",
       " '2.0.BRVO',\n",
       " '2.1.CRVO',\n",
       " '20.Massive hard exudates',\n",
       " '21.Yellow-white spots-flecks',\n",
       " '22.Cotton-wool spots',\n",
       " '23.Vessel tortuosity',\n",
       " '24.Chorioretinal atrophy-coloboma',\n",
       " '25.Preretinal hemorrhage',\n",
       " '26.Fibrosis',\n",
       " '27.Laser Spots',\n",
       " '28.Silicon oil in eye',\n",
       " '29.0.Blur fundus without PDR',\n",
       " '29.1.Blur fundus with suspected PDR',\n",
       " '3.RAO',\n",
       " '4.Rhegmatogenous RD',\n",
       " '5.0.CSCR',\n",
       " '5.1.VKH disease',\n",
       " '6.Maculopathy',\n",
       " '7.ERM',\n",
       " '8.MH',\n",
       " '9.Pathological myopia']"
      ]
     },
     "execution_count": 3,
     "metadata": {},
     "output_type": "execute_result"
    }
   ],
   "source": [
    "diseases = os.listdir(r\"E:\\DS workspace\\ML DL Python\\aca tor dataset\\1000 images eye - Medical\\Dataset\\1000images\")\n",
    "diseases"
   ]
  },
  {
   "attachments": {},
   "cell_type": "markdown",
   "metadata": {},
   "source": [
    "* Defining Image width and height"
   ]
  },
  {
   "cell_type": "code",
   "execution_count": 4,
   "metadata": {},
   "outputs": [],
   "source": [
    "IMAGE_WIDTH= 224\n",
    "IMAGE_HEIGHT= 224"
   ]
  },
  {
   "attachments": {},
   "cell_type": "markdown",
   "metadata": {},
   "source": [
    "<a id='2'></a>\n",
    "## 2. Load dataset dictionary"
   ]
  },
  {
   "cell_type": "code",
   "execution_count": 5,
   "metadata": {},
   "outputs": [
    {
     "data": {
      "text/plain": [
       "[WindowsPath('E:/DS workspace/ML DL Python/aca tor dataset/1000 images eye - Medical/Dataset/1000images/0.0.Normal/1ffa9627-8d87-11e8-9daf-6045cb817f5b..JPG'),\n",
       " WindowsPath('E:/DS workspace/ML DL Python/aca tor dataset/1000 images eye - Medical/Dataset/1000images/0.0.Normal/1ffa9628-8d87-11e8-9daf-6045cb817f5b..JPG'),\n",
       " WindowsPath('E:/DS workspace/ML DL Python/aca tor dataset/1000 images eye - Medical/Dataset/1000images/0.0.Normal/1ffa9629-8d87-11e8-9daf-6045cb817f5b..JPG'),\n",
       " WindowsPath('E:/DS workspace/ML DL Python/aca tor dataset/1000 images eye - Medical/Dataset/1000images/0.0.Normal/1ffa962a-8d87-11e8-9daf-6045cb817f5b..JPG'),\n",
       " WindowsPath('E:/DS workspace/ML DL Python/aca tor dataset/1000 images eye - Medical/Dataset/1000images/0.0.Normal/1ffa962b-8d87-11e8-9daf-6045cb817f5b..JPG')]"
      ]
     },
     "execution_count": 5,
     "metadata": {},
     "output_type": "execute_result"
    }
   ],
   "source": [
    "import pathlib\n",
    "data_dir = pathlib.Path(r\"E:\\DS workspace\\ML DL Python\\aca tor dataset\\1000 images eye - Medical\\Dataset\\1000images\")\n",
    "data_dir\n",
    "list(data_dir.glob('*/*.jpg'))[:5]"
   ]
  },
  {
   "cell_type": "code",
   "execution_count": 6,
   "metadata": {},
   "outputs": [],
   "source": [
    "filepaths = list(data_dir.glob(r'**/*.jpg'))\n",
    "labels = list(map(lambda x: os.path.split(os.path.split(x)[0])[1], filepaths))"
   ]
  },
  {
   "attachments": {},
   "cell_type": "markdown",
   "metadata": {},
   "source": [
    "<a id='2.1'></a>\n",
    "### 2.1. Image dictionary"
   ]
  },
  {
   "cell_type": "code",
   "execution_count": 7,
   "metadata": {},
   "outputs": [],
   "source": [
    "diseases_image_dict = {\n",
    " '0.0.Normal': list(data_dir.glob('0.0.Normal/*')),\n",
    " '0.1.Tessellated fundus': list(data_dir.glob('0.1.Tessellated fundus/*')),\n",
    " '0.2.Large optic cup': list(data_dir.glob('0.2.Large optic cup/*')),\n",
    " '0.3.DR1': list(data_dir.glob('0.3.DR1/*')),\n",
    " '1.0.DR2': list(data_dir.glob('1.0.DR2/*')),\n",
    " '1.1.DR3': list(data_dir.glob('1.1.DR3/*')),\n",
    " '10.0.Possible glaucoma': list(data_dir.glob('10.0.Possible glaucoma/*')),\n",
    " '10.1.Optic atrophy': list(data_dir.glob('10.1.Optic atrophy/*')),\n",
    " '11.Severe hypertensive retinopathy': list(data_dir.glob('11.Severe hypertensive retinopathy/*')),\n",
    " '12.Disc swelling and elevation': list(data_dir.glob('12.Disc swelling and elevation/*')),\n",
    " '13.Dragged Disc': list(data_dir.glob('13.Dragged Disc/*')),\n",
    " '14.Congenital disc abnormality': list(data_dir.glob('14.Congenital disc abnormality/*')),\n",
    " '15.0.Retinitis pigmentosa': list(data_dir.glob('15.0.Retinitis pigmentosa/*')),\n",
    " '15.1.Bietti crystalline dystrophy': list(data_dir.glob('15.1.Bietti crystalline dystrophy/*')),\n",
    " '16.Peripheral retinal degeneration and break' : list(data_dir.glob('16.Peripheral retinal degeneration and break/*')),\n",
    " '17.Myelinated nerve fiber': list(data_dir.glob('17.Myelinated nerve fiber/*')),\n",
    " '18.Vitreous particles': list(data_dir.glob('18.Vitreous particles/*')),\n",
    " '19.Fundus neoplasm': list(data_dir.glob('19.Fundus neoplasm/*')),\n",
    " '2.0.BRVO': list(data_dir.glob('2.0.BRVO/*')),\n",
    " '2.1.CRVO': list(data_dir.glob('2.1.CRVO/*')),\n",
    " '20.Massive hard exudates': list(data_dir.glob('20.Massive hard exudates/*')),\n",
    " '21.Yellow-white spots-flecks': list(data_dir.glob('21.Yellow-white spots-flecks/*')),\n",
    " '22.Cotton-wool spots': list(data_dir.glob('22.Cotton-wool spots/*')),\n",
    " '23.Vessel tortuosity': list(data_dir.glob('23.Vessel tortuosity/*')),\n",
    " '24.Chorioretinal atrophy-coloboma': list(data_dir.glob('24.Chorioretinal atrophy-coloboma/*')),\n",
    " '25.Preretinal hemorrhage': list(data_dir.glob('25.Preretinal hemorrhage/*')),\n",
    " '26.Fibrosis': list(data_dir.glob('26.Fibrosis/*')),\n",
    " '27.Laser Spots': list(data_dir.glob('27.Laser Spots/*')),\n",
    " '28.Silicon oil in eye': list(data_dir.glob('28.Silicon oil in eye/*')),\n",
    " '29.0.Blur fundus without PDR': list(data_dir.glob('29.0.Blur fundus without PDR/*')),\n",
    " '29.1.Blur fundus with suspected PDR': list(data_dir.glob('29.1.Blur fundus with suspected PDR/*')),\n",
    " '3.RAO': list(data_dir.glob('3.RAO/*')),\n",
    " '4.Rhegmatogenous RD': list(data_dir.glob('4.Rhegmatogenous RD/*')),\n",
    " '5.0.CSCR': list(data_dir.glob('5.0.CSCR/*')),\n",
    " '5.1.VKH disease': list(data_dir.glob('5.1.VKH disease/*')),\n",
    " '6.Maculopathy': list(data_dir.glob('6.Maculopathy/*')),\n",
    " '7.ERM': list(data_dir.glob('7.ERM/*')),\n",
    " '8.MH': list(data_dir.glob('8.MH/*')),\n",
    " '9.Pathological myopia': list(data_dir.glob('9.Pathological myopia/*'))\n",
    " }"
   ]
  },
  {
   "attachments": {},
   "cell_type": "markdown",
   "metadata": {},
   "source": [
    "<a id='2.2'></a>\n",
    "### 2.2. Label dictionary"
   ]
  },
  {
   "cell_type": "code",
   "execution_count": 8,
   "metadata": {},
   "outputs": [],
   "source": [
    "diseases_label_dict = {\n",
    "'0.0.Normal':0,\n",
    "'0.1.Tessellated fundus':1,\n",
    "'0.2.Large optic cup':2,\n",
    "'0.3.DR1':3,\n",
    "'1.0.DR2':4,\n",
    "'1.1.DR3':5,\n",
    "'10.0.Possible glaucoma':6,\n",
    "'10.1.Optic atrophy':7,\n",
    "'11.Severe hypertensive retinopathy':8,\n",
    "'12.Disc swelling and elevation':9,\n",
    "'13.Dragged Disc':10,\n",
    "'14.Congenital disc abnormality':11,\n",
    "'15.0.Retinitis pigmentosa':12,\n",
    "'15.1.Bietti crystalline dystrophy':13,\n",
    "'16.Peripheral retinal degeneration and break':14,\n",
    "'17.Myelinated nerve fiber':15,\n",
    "'18.Vitreous particles':16,\n",
    "'19.Fundus neoplasm':17,\n",
    "'2.0.BRVO':18,\n",
    "'2.1.CRVO':19,\n",
    "'20.Massive hard exudates':20,\n",
    "'21.Yellow-white spots-flecks':21,\n",
    "'22.Cotton-wool spots':22,\n",
    "'23.Vessel tortuosity':23,\n",
    "'24.Chorioretinal atrophy-coloboma':24,\n",
    "'25.Preretinal hemorrhage':25,\n",
    "'26.Fibrosis':26,\n",
    "'27.Laser Spots':27,\n",
    "'28.Silicon oil in eye':28,\n",
    "'29.0.Blur fundus without PDR':29,\n",
    "'29.1.Blur fundus with suspected PDR':30,\n",
    "'3.RAO':31,\n",
    "'4.Rhegmatogenous RD':32,\n",
    "'5.0.CSCR':33,\n",
    "'5.1.VKH disease':34,\n",
    "'6.Maculopathy':35,\n",
    "'7.ERM':36,\n",
    "'8.MH':37,\n",
    "'9.Pathological myopia':38\n",
    "}"
   ]
  },
  {
   "attachments": {},
   "cell_type": "markdown",
   "metadata": {},
   "source": [
    "<a id='3'></a>\n",
    "## 3. Importing and resizing the images in to Tensor"
   ]
  },
  {
   "cell_type": "code",
   "execution_count": 10,
   "metadata": {},
   "outputs": [
    {
     "name": "stdout",
     "output_type": "stream",
     "text": [
      "0.0.Normal\n"
     ]
    },
    {
     "name": "stderr",
     "output_type": "stream",
     "text": [
      "100%|██████████| 38/38 [00:07<00:00,  5.16it/s]\n"
     ]
    },
    {
     "name": "stdout",
     "output_type": "stream",
     "text": [
      "0.1.Tessellated fundus\n"
     ]
    },
    {
     "name": "stderr",
     "output_type": "stream",
     "text": [
      "100%|██████████| 13/13 [00:02<00:00,  6.45it/s]\n"
     ]
    },
    {
     "name": "stdout",
     "output_type": "stream",
     "text": [
      "0.2.Large optic cup\n"
     ]
    },
    {
     "name": "stderr",
     "output_type": "stream",
     "text": [
      "100%|██████████| 50/50 [00:06<00:00,  8.03it/s]\n"
     ]
    },
    {
     "name": "stdout",
     "output_type": "stream",
     "text": [
      "0.3.DR1\n"
     ]
    },
    {
     "name": "stderr",
     "output_type": "stream",
     "text": [
      "100%|██████████| 18/18 [00:03<00:00,  5.44it/s]\n"
     ]
    },
    {
     "name": "stdout",
     "output_type": "stream",
     "text": [
      "1.0.DR2\n"
     ]
    },
    {
     "name": "stderr",
     "output_type": "stream",
     "text": [
      "100%|██████████| 49/49 [00:08<00:00,  5.96it/s]\n"
     ]
    },
    {
     "name": "stdout",
     "output_type": "stream",
     "text": [
      "1.1.DR3\n"
     ]
    },
    {
     "name": "stderr",
     "output_type": "stream",
     "text": [
      "100%|██████████| 39/39 [00:06<00:00,  5.85it/s]\n"
     ]
    },
    {
     "name": "stdout",
     "output_type": "stream",
     "text": [
      "10.0.Possible glaucoma\n"
     ]
    },
    {
     "name": "stderr",
     "output_type": "stream",
     "text": [
      "100%|██████████| 13/13 [00:01<00:00,  6.85it/s]\n"
     ]
    },
    {
     "name": "stdout",
     "output_type": "stream",
     "text": [
      "10.1.Optic atrophy\n"
     ]
    },
    {
     "name": "stderr",
     "output_type": "stream",
     "text": [
      "100%|██████████| 12/12 [00:01<00:00,  6.70it/s]\n"
     ]
    },
    {
     "name": "stdout",
     "output_type": "stream",
     "text": [
      "11.Severe hypertensive retinopathy\n"
     ]
    },
    {
     "name": "stderr",
     "output_type": "stream",
     "text": [
      "100%|██████████| 15/15 [00:01<00:00,  7.68it/s]\n"
     ]
    },
    {
     "name": "stdout",
     "output_type": "stream",
     "text": [
      "12.Disc swelling and elevation\n"
     ]
    },
    {
     "name": "stderr",
     "output_type": "stream",
     "text": [
      "100%|██████████| 13/13 [00:01<00:00,  9.67it/s]\n"
     ]
    },
    {
     "name": "stdout",
     "output_type": "stream",
     "text": [
      "13.Dragged Disc\n"
     ]
    },
    {
     "name": "stderr",
     "output_type": "stream",
     "text": [
      "100%|██████████| 10/10 [00:01<00:00,  8.81it/s]\n"
     ]
    },
    {
     "name": "stdout",
     "output_type": "stream",
     "text": [
      "14.Congenital disc abnormality\n"
     ]
    },
    {
     "name": "stderr",
     "output_type": "stream",
     "text": [
      "100%|██████████| 10/10 [00:01<00:00,  8.35it/s]\n"
     ]
    },
    {
     "name": "stdout",
     "output_type": "stream",
     "text": [
      "15.0.Retinitis pigmentosa\n"
     ]
    },
    {
     "name": "stderr",
     "output_type": "stream",
     "text": [
      "100%|██████████| 22/22 [00:02<00:00,  8.57it/s]\n"
     ]
    },
    {
     "name": "stdout",
     "output_type": "stream",
     "text": [
      "15.1.Bietti crystalline dystrophy\n"
     ]
    },
    {
     "name": "stderr",
     "output_type": "stream",
     "text": [
      "100%|██████████| 8/8 [00:00<00:00,  8.09it/s]\n"
     ]
    },
    {
     "name": "stdout",
     "output_type": "stream",
     "text": [
      "16.Peripheral retinal degeneration and break\n"
     ]
    },
    {
     "name": "stderr",
     "output_type": "stream",
     "text": [
      "100%|██████████| 14/14 [00:02<00:00,  6.58it/s]\n"
     ]
    },
    {
     "name": "stdout",
     "output_type": "stream",
     "text": [
      "17.Myelinated nerve fiber\n"
     ]
    },
    {
     "name": "stderr",
     "output_type": "stream",
     "text": [
      "100%|██████████| 11/11 [00:01<00:00, 10.68it/s]\n"
     ]
    },
    {
     "name": "stdout",
     "output_type": "stream",
     "text": [
      "18.Vitreous particles\n"
     ]
    },
    {
     "name": "stderr",
     "output_type": "stream",
     "text": [
      "100%|██████████| 14/14 [00:01<00:00,  9.84it/s]\n"
     ]
    },
    {
     "name": "stdout",
     "output_type": "stream",
     "text": [
      "19.Fundus neoplasm\n"
     ]
    },
    {
     "name": "stderr",
     "output_type": "stream",
     "text": [
      "100%|██████████| 8/8 [00:00<00:00, 11.98it/s]\n"
     ]
    },
    {
     "name": "stdout",
     "output_type": "stream",
     "text": [
      "2.0.BRVO\n"
     ]
    },
    {
     "name": "stderr",
     "output_type": "stream",
     "text": [
      "100%|██████████| 44/44 [00:06<00:00,  6.63it/s]\n"
     ]
    },
    {
     "name": "stdout",
     "output_type": "stream",
     "text": [
      "2.1.CRVO\n"
     ]
    },
    {
     "name": "stderr",
     "output_type": "stream",
     "text": [
      "100%|██████████| 22/22 [00:02<00:00, 10.20it/s]\n"
     ]
    },
    {
     "name": "stdout",
     "output_type": "stream",
     "text": [
      "20.Massive hard exudates\n"
     ]
    },
    {
     "name": "stderr",
     "output_type": "stream",
     "text": [
      "100%|██████████| 13/13 [00:01<00:00, 10.60it/s]\n"
     ]
    },
    {
     "name": "stdout",
     "output_type": "stream",
     "text": [
      "21.Yellow-white spots-flecks\n"
     ]
    },
    {
     "name": "stderr",
     "output_type": "stream",
     "text": [
      "100%|██████████| 29/29 [00:04<00:00,  6.78it/s]\n"
     ]
    },
    {
     "name": "stdout",
     "output_type": "stream",
     "text": [
      "22.Cotton-wool spots\n"
     ]
    },
    {
     "name": "stderr",
     "output_type": "stream",
     "text": [
      "100%|██████████| 10/10 [00:01<00:00,  6.36it/s]\n"
     ]
    },
    {
     "name": "stdout",
     "output_type": "stream",
     "text": [
      "23.Vessel tortuosity\n"
     ]
    },
    {
     "name": "stderr",
     "output_type": "stream",
     "text": [
      "100%|██████████| 14/14 [00:02<00:00,  6.38it/s]\n"
     ]
    },
    {
     "name": "stdout",
     "output_type": "stream",
     "text": [
      "24.Chorioretinal atrophy-coloboma\n"
     ]
    },
    {
     "name": "stderr",
     "output_type": "stream",
     "text": [
      "100%|██████████| 15/15 [00:01<00:00,  8.84it/s]\n"
     ]
    },
    {
     "name": "stdout",
     "output_type": "stream",
     "text": [
      "25.Preretinal hemorrhage\n"
     ]
    },
    {
     "name": "stderr",
     "output_type": "stream",
     "text": [
      "100%|██████████| 10/10 [00:01<00:00,  8.27it/s]\n"
     ]
    },
    {
     "name": "stdout",
     "output_type": "stream",
     "text": [
      "26.Fibrosis\n"
     ]
    },
    {
     "name": "stderr",
     "output_type": "stream",
     "text": [
      "100%|██████████| 10/10 [00:01<00:00,  7.55it/s]\n"
     ]
    },
    {
     "name": "stdout",
     "output_type": "stream",
     "text": [
      "27.Laser Spots\n"
     ]
    },
    {
     "name": "stderr",
     "output_type": "stream",
     "text": [
      "100%|██████████| 20/20 [00:02<00:00,  7.04it/s]\n"
     ]
    },
    {
     "name": "stdout",
     "output_type": "stream",
     "text": [
      "28.Silicon oil in eye\n"
     ]
    },
    {
     "name": "stderr",
     "output_type": "stream",
     "text": [
      "100%|██████████| 19/19 [00:02<00:00,  9.05it/s]\n"
     ]
    },
    {
     "name": "stdout",
     "output_type": "stream",
     "text": [
      "29.0.Blur fundus without PDR\n"
     ]
    },
    {
     "name": "stderr",
     "output_type": "stream",
     "text": [
      "100%|██████████| 114/114 [00:11<00:00,  9.51it/s]\n"
     ]
    },
    {
     "name": "stdout",
     "output_type": "stream",
     "text": [
      "29.1.Blur fundus with suspected PDR\n"
     ]
    },
    {
     "name": "stderr",
     "output_type": "stream",
     "text": [
      "100%|██████████| 45/45 [00:04<00:00,  9.34it/s]\n"
     ]
    },
    {
     "name": "stdout",
     "output_type": "stream",
     "text": [
      "3.RAO\n"
     ]
    },
    {
     "name": "stderr",
     "output_type": "stream",
     "text": [
      "100%|██████████| 16/16 [00:01<00:00,  9.31it/s]\n"
     ]
    },
    {
     "name": "stdout",
     "output_type": "stream",
     "text": [
      "4.Rhegmatogenous RD\n"
     ]
    },
    {
     "name": "stderr",
     "output_type": "stream",
     "text": [
      "100%|██████████| 57/57 [00:08<00:00,  6.67it/s]\n"
     ]
    },
    {
     "name": "stdout",
     "output_type": "stream",
     "text": [
      "5.0.CSCR\n"
     ]
    },
    {
     "name": "stderr",
     "output_type": "stream",
     "text": [
      "100%|██████████| 14/14 [00:02<00:00,  6.93it/s]\n"
     ]
    },
    {
     "name": "stdout",
     "output_type": "stream",
     "text": [
      "5.1.VKH disease\n"
     ]
    },
    {
     "name": "stderr",
     "output_type": "stream",
     "text": [
      "100%|██████████| 14/14 [00:01<00:00,  7.57it/s]\n"
     ]
    },
    {
     "name": "stdout",
     "output_type": "stream",
     "text": [
      "6.Maculopathy\n"
     ]
    },
    {
     "name": "stderr",
     "output_type": "stream",
     "text": [
      "100%|██████████| 74/74 [00:11<00:00,  6.38it/s]\n"
     ]
    },
    {
     "name": "stdout",
     "output_type": "stream",
     "text": [
      "7.ERM\n"
     ]
    },
    {
     "name": "stderr",
     "output_type": "stream",
     "text": [
      "100%|██████████| 26/26 [00:03<00:00,  7.66it/s]\n"
     ]
    },
    {
     "name": "stdout",
     "output_type": "stream",
     "text": [
      "8.MH\n"
     ]
    },
    {
     "name": "stderr",
     "output_type": "stream",
     "text": [
      "100%|██████████| 23/23 [00:03<00:00,  6.24it/s]\n"
     ]
    },
    {
     "name": "stdout",
     "output_type": "stream",
     "text": [
      "9.Pathological myopia\n"
     ]
    },
    {
     "name": "stderr",
     "output_type": "stream",
     "text": [
      "100%|██████████| 54/54 [00:09<00:00,  6.00it/s]\n"
     ]
    }
   ],
   "source": [
    "X, Y = [], []\n",
    "\n",
    "for diseases_name, images in diseases_image_dict.items():\n",
    "    print(diseases_name)\n",
    "    for image in tqdm(images):\n",
    "        img = cv2.imread(str(image))\n",
    "        if isinstance(img,type(None)): \n",
    "            #print('image not found')\n",
    "            continue\n",
    "            \n",
    "        elif ((img.shape[0] >= IMAGE_HEIGHT) and  (img.shape[1] >=IMAGE_WIDTH)):\n",
    "            resized_img = cv2.resize(img,(IMAGE_WIDTH,IMAGE_HEIGHT))\n",
    "            X.append(resized_img)\n",
    "            Y.append(diseases_label_dict[diseases_name])\n",
    "        else:\n",
    "            #print(\"Invalid Image\")\n",
    "            continue"
   ]
  },
  {
   "attachments": {},
   "cell_type": "markdown",
   "metadata": {},
   "source": [
    "<a id='3.1'></a>\n",
    "###  3.1. Saving the tensor for future imports"
   ]
  },
  {
   "cell_type": "code",
   "execution_count": 11,
   "metadata": {},
   "outputs": [],
   "source": [
    "np.save(r\"E:\\\\DS workspace\\\\ML DL Python\\\\aca tor dataset\\\\1000 images eye - Medical\\\\1000 image notebook\\\\X224.npy\",X)\n",
    "np.save(r\"E:\\\\DS workspace\\\\ML DL Python\\\\aca tor dataset\\\\1000 images eye - Medical\\\\1000 image notebook\\\\Y224.npy\",Y)"
   ]
  },
  {
   "attachments": {},
   "cell_type": "markdown",
   "metadata": {},
   "source": [
    "<a id='3.2'></a>\n",
    "### 3.2. Loading the image Tensors"
   ]
  },
  {
   "cell_type": "code",
   "execution_count": 12,
   "metadata": {},
   "outputs": [],
   "source": [
    "#np.save(\"X.npy\",X)\n",
    "#np.save(\"Y.npy\",Y)\n",
    "X = np.load(r\"E:\\\\DS workspace\\\\ML DL Python\\\\aca tor dataset\\\\1000 images eye - Medical\\\\1000 image notebook\\\\X224.npy\").tolist()\n",
    "Y = np.load(r\"E:\\\\DS workspace\\\\ML DL Python\\\\aca tor dataset\\\\1000 images eye - Medical\\\\1000 image notebook\\\\Y224.npy\").tolist()"
   ]
  },
  {
   "attachments": {},
   "cell_type": "markdown",
   "metadata": {},
   "source": [
    "<a id='3.3'></a>\n",
    "### 3.3. Converting the Tensor list into Array"
   ]
  },
  {
   "cell_type": "code",
   "execution_count": 13,
   "metadata": {},
   "outputs": [],
   "source": [
    "X = np.array(X)\n",
    "Y = np.array(Y)"
   ]
  },
  {
   "attachments": {},
   "cell_type": "markdown",
   "metadata": {},
   "source": [
    "<a id='4'></a>\n",
    "## 4. Train test split the X and Y Data"
   ]
  },
  {
   "attachments": {},
   "cell_type": "markdown",
   "metadata": {},
   "source": [
    "* X = image (tensor)\n",
    "* Y = Label (Disease)"
   ]
  },
  {
   "cell_type": "code",
   "execution_count": 14,
   "metadata": {},
   "outputs": [
    {
     "name": "stdout",
     "output_type": "stream",
     "text": [
      "700 700\n",
      "300 300\n",
      "(700, 224, 224, 3) (700,)\n",
      "(300, 224, 224, 3) (300,)\n"
     ]
    }
   ],
   "source": [
    "X_train, X_test, Y_train, Y_test = train_test_split(X, Y,test_size=0.3, random_state=0)\n",
    "\n",
    "print(len(X_train),len(Y_train))\n",
    "print(len(X_test),len(Y_test))\n",
    "\n",
    "print(X_train.shape,Y_train.shape)\n",
    "print(X_test.shape,Y_test.shape)"
   ]
  },
  {
   "attachments": {},
   "cell_type": "markdown",
   "metadata": {},
   "source": [
    "<a id='4.1'></a>\n",
    "### 4.1. Scalling the X data array to 255 so the training will be the pixel range "
   ]
  },
  {
   "cell_type": "code",
   "execution_count": 15,
   "metadata": {},
   "outputs": [],
   "source": [
    "X_train_scalled = X_train / 255\n",
    "X_test_scalled = X_test / 255"
   ]
  },
  {
   "attachments": {},
   "cell_type": "markdown",
   "metadata": {},
   "source": [
    "<a id='5'></a>\n",
    "## 5. Building the Model"
   ]
  },
  {
   "attachments": {},
   "cell_type": "markdown",
   "metadata": {},
   "source": [
    "<a id='5.1'></a>\n",
    "### 5.1. Downloading the Pre-Trained model Mobilenet_v2"
   ]
  },
  {
   "attachments": {},
   "cell_type": "markdown",
   "metadata": {},
   "source": [
    "* Pre-Trained model = Mobilenet_v2\n",
    "* input shape = (224,224,3)\n",
    "* Trainable = False"
   ]
  },
  {
   "cell_type": "code",
   "execution_count": 16,
   "metadata": {},
   "outputs": [
    {
     "name": "stdout",
     "output_type": "stream",
     "text": [
      "WARNING:tensorflow:Please fix your imports. Module tensorflow.python.training.tracking.data_structures has been moved to tensorflow.python.trackable.data_structures. The old module will be deleted in version 2.11.\n"
     ]
    }
   ],
   "source": [
    "feature_extractor_model = \"https://tfhub.dev/google/tf2-preview/mobilenet_v2/feature_vector/4\"\n",
    "\n",
    "pretrained_model_without_top_layer = hub.KerasLayer(\n",
    "    feature_extractor_model, input_shape=(224,224, 3), trainable=False)"
   ]
  },
  {
   "attachments": {},
   "cell_type": "markdown",
   "metadata": {},
   "source": [
    "* Mobilenet_v2 = (224,224,3)\n",
    "* Flatten\n",
    "* Dense(54)\n",
    "* Dropout(0.2)\n",
    "* Dense(39)"
   ]
  },
  {
   "cell_type": "code",
   "execution_count": 17,
   "metadata": {},
   "outputs": [
    {
     "name": "stdout",
     "output_type": "stream",
     "text": [
      "WARNING:tensorflow:From C:\\Users\\nvmuk\\AppData\\Roaming\\Python\\Python39\\site-packages\\tensorflow\\python\\autograph\\pyct\\static_analysis\\liveness.py:83: Analyzer.lamba_check (from tensorflow.python.autograph.pyct.static_analysis.liveness) is deprecated and will be removed after 2023-09-23.\n",
      "Instructions for updating:\n",
      "Lambda fuctions will be no more assumed to be used in the statement where they are used, or at least in the same block. https://github.com/tensorflow/tensorflow/issues/56089\n"
     ]
    },
    {
     "name": "stderr",
     "output_type": "stream",
     "text": [
      "WARNING:tensorflow:From C:\\Users\\nvmuk\\AppData\\Roaming\\Python\\Python39\\site-packages\\tensorflow\\python\\autograph\\pyct\\static_analysis\\liveness.py:83: Analyzer.lamba_check (from tensorflow.python.autograph.pyct.static_analysis.liveness) is deprecated and will be removed after 2023-09-23.\n",
      "Instructions for updating:\n",
      "Lambda fuctions will be no more assumed to be used in the statement where they are used, or at least in the same block. https://github.com/tensorflow/tensorflow/issues/56089\n"
     ]
    },
    {
     "name": "stdout",
     "output_type": "stream",
     "text": [
      "Model: \"sequential\"\n",
      "_________________________________________________________________\n",
      " Layer (type)                Output Shape              Param #   \n",
      "=================================================================\n",
      " keras_layer (KerasLayer)    (None, 1280)              2257984   \n",
      "                                                                 \n",
      " flatten (Flatten)           (None, 1280)              0         \n",
      "                                                                 \n",
      " dense (Dense)               (None, 224)               286944    \n",
      "                                                                 \n",
      " dropout (Dropout)           (None, 224)               0         \n",
      "                                                                 \n",
      " dense_1 (Dense)             (None, 39)                8775      \n",
      "                                                                 \n",
      "=================================================================\n",
      "Total params: 2,553,703\n",
      "Trainable params: 295,719\n",
      "Non-trainable params: 2,257,984\n",
      "_________________________________________________________________\n"
     ]
    }
   ],
   "source": [
    "model = tf.keras.Sequential([\n",
    "  pretrained_model_without_top_layer,\n",
    "  tf.keras.layers.Flatten(),\n",
    "  tf.keras.layers.Dense(224, activation='relu'),\n",
    "  tf.keras.layers.Dropout(0.2),\n",
    "  tf.keras.layers.Dense(39, activation='sigmoid')\n",
    "])\n",
    "\n",
    "model.summary()"
   ]
  },
  {
   "cell_type": "code",
   "execution_count": 18,
   "metadata": {},
   "outputs": [],
   "source": [
    "model.compile(optimizer=\"adam\", loss=tf.keras.losses.SparseCategoricalCrossentropy(from_logits=True), metrics=['acc'])"
   ]
  },
  {
   "attachments": {},
   "cell_type": "markdown",
   "metadata": {},
   "source": [
    "<a id='6'></a>\n",
    "## 6. Model Training"
   ]
  },
  {
   "cell_type": "code",
   "execution_count": 19,
   "metadata": {},
   "outputs": [
    {
     "name": "stdout",
     "output_type": "stream",
     "text": [
      "Epoch 1/10\n",
      "22/22 [==============================] - 34s 1s/step - loss: 3.0065 - acc: 0.2643 - val_loss: 2.4975 - val_acc: 0.3500\n",
      "Epoch 2/10\n",
      "22/22 [==============================] - 23s 1s/step - loss: 1.9934 - acc: 0.4514 - val_loss: 2.0198 - val_acc: 0.4733\n",
      "Epoch 3/10\n",
      "22/22 [==============================] - 23s 1s/step - loss: 1.4642 - acc: 0.6000 - val_loss: 1.8506 - val_acc: 0.4833\n",
      "Epoch 4/10\n",
      "22/22 [==============================] - 24s 1s/step - loss: 1.1677 - acc: 0.6829 - val_loss: 1.5862 - val_acc: 0.5500\n",
      "Epoch 5/10\n",
      "22/22 [==============================] - 22s 1s/step - loss: 0.9109 - acc: 0.7600 - val_loss: 1.4378 - val_acc: 0.5533\n",
      "Epoch 6/10\n",
      "22/22 [==============================] - 26s 1s/step - loss: 0.7105 - acc: 0.8100 - val_loss: 1.3611 - val_acc: 0.5967\n",
      "Epoch 7/10\n",
      "22/22 [==============================] - 23s 1s/step - loss: 0.6230 - acc: 0.8457 - val_loss: 1.2641 - val_acc: 0.6067\n",
      "Epoch 8/10\n",
      "22/22 [==============================] - 22s 995ms/step - loss: 0.5304 - acc: 0.8786 - val_loss: 1.3260 - val_acc: 0.6067\n",
      "Epoch 9/10\n",
      "22/22 [==============================] - 21s 970ms/step - loss: 0.4819 - acc: 0.8843 - val_loss: 1.3000 - val_acc: 0.6100\n",
      "Epoch 10/10\n",
      "22/22 [==============================] - 21s 968ms/step - loss: 0.3756 - acc: 0.9214 - val_loss: 1.2411 - val_acc: 0.6233\n"
     ]
    },
    {
     "data": {
      "text/plain": [
       "<keras.callbacks.History at 0x20e1e97ecd0>"
      ]
     },
     "execution_count": 19,
     "metadata": {},
     "output_type": "execute_result"
    }
   ],
   "source": [
    "model.fit(X_train_scalled, Y_train, validation_data= (X_test_scalled, Y_test), epochs=10)"
   ]
  },
  {
   "attachments": {},
   "cell_type": "markdown",
   "metadata": {},
   "source": [
    "<a id='6.1'></a>\n",
    "### 6.1. Saving the Trained model"
   ]
  },
  {
   "cell_type": "code",
   "execution_count": 22,
   "metadata": {},
   "outputs": [],
   "source": [
    "model.save(r\"E:\\\\DS workspace\\\\ML DL Python\\\\aca tor dataset\\\\1000 images eye - Medical\\\\1000 image notebook\\\\my_modelmnet3.h5\")\n",
    "model.save('mymodel4.h5')"
   ]
  },
  {
   "attachments": {},
   "cell_type": "markdown",
   "metadata": {},
   "source": [
    "<a id='6.2'></a>\n",
    "### 6.2. Loading the Saved model"
   ]
  },
  {
   "cell_type": "code",
   "execution_count": 24,
   "metadata": {},
   "outputs": [],
   "source": [
    "from tensorflow import keras\n",
    "modelr = keras.models.load_model(('mymodel4.h5'),custom_objects={'KerasLayer':hub.KerasLayer})"
   ]
  },
  {
   "attachments": {},
   "cell_type": "markdown",
   "metadata": {},
   "source": [
    "<a id='7'> </a>\n",
    "## 7. Model Evaluation"
   ]
  },
  {
   "cell_type": "code",
   "execution_count": 26,
   "metadata": {},
   "outputs": [
    {
     "name": "stdout",
     "output_type": "stream",
     "text": [
      "10/10 [==============================] - 10s 765ms/step - loss: 1.2411 - acc: 0.6233\n"
     ]
    },
    {
     "data": {
      "text/plain": [
       "[1.2410908937454224, 0.6233333349227905]"
      ]
     },
     "execution_count": 26,
     "metadata": {},
     "output_type": "execute_result"
    }
   ],
   "source": [
    "modelr.evaluate(X_test_scalled,Y_test)"
   ]
  },
  {
   "attachments": {},
   "cell_type": "markdown",
   "metadata": {},
   "source": [
    "<a id='8'></a>\n",
    "## 8. Prediction of single image"
   ]
  },
  {
   "cell_type": "code",
   "execution_count": 22,
   "metadata": {},
   "outputs": [],
   "source": [
    "def  predict_image(filepath):\n",
    "    from PIL import Image\n",
    "    fileImage = Image.open(filepath).convert(\"RGB\").resize([224,224],Image.ANTIALIAS)\n",
    "    image = np.array(fileImage)\n",
    "    myimage = image.reshape(1, 224,224,3)/255\n",
    "    plt.figure(figsize = (4,2))\n",
    "    plt.imshow(image)\n",
    "\n",
    "    predicted_image = modelr.predict(myimage)\n",
    "    print(predicted_image)\n",
    "    print(np.argmax(predicted_image[0]))\n",
    "    print(diseases[np.argmax(predicted_image[0])])"
   ]
  },
  {
   "cell_type": "code",
   "execution_count": 41,
   "metadata": {},
   "outputs": [
    {
     "name": "stdout",
     "output_type": "stream",
     "text": [
      "1/1 [==============================] - 0s 93ms/step\n",
      "[[9.59577024e-01 8.47694516e-01 9.90706921e-01 3.29203415e-03\n",
      "  7.71690607e-02 4.12358083e-02 7.30783880e-01 9.16039705e-01\n",
      "  2.93663237e-02 3.60009670e-01 6.57594085e-01 5.71605504e-01\n",
      "  2.19495296e-01 3.39136124e-02 1.61289377e-03 1.78547472e-01\n",
      "  3.33552234e-05 7.42723793e-02 5.83387800e-02 8.22302420e-03\n",
      "  8.27284157e-03 6.87849224e-02 1.37028560e-01 3.42338443e-01\n",
      "  7.42098510e-01 4.80111018e-02 1.44646084e-03 1.33545268e-02\n",
      "  3.37274857e-02 1.14320114e-01 7.71052961e-04 7.63391331e-02\n",
      "  3.75764906e-01 1.55570716e-01 1.92362536e-02 7.99082369e-02\n",
      "  1.79981608e-02 2.92455077e-01 4.20757346e-02]]\n",
      "2\n",
      "0.2.Large optic cup\n"
     ]
    },
    {
     "data": {
      "image/png": "[encoded data removed]",
      "text/plain": [
       "<Figure size 288x144 with 1 Axes>"
      ]
     },
     "metadata": {
      "needs_background": "light"
     },
     "output_type": "display_data"
    }
   ],
   "source": [
    "predict_image(r\"E:\\DS workspace\\ML DL Python\\aca tor dataset\\1000 images eye - Medical\\Dataset\\1000images\\10.1.Optic atrophy\\202efd23-8d87-11e8-9daf-6045cb817f5b..JPG\")"
   ]
  },
  {
   "cell_type": "code",
   "execution_count": null,
   "metadata": {},
   "outputs": [],
   "source": []
  },
  {
   "cell_type": "code",
   "execution_count": null,
   "metadata": {},
   "outputs": [],
   "source": []
  },
  {
   "cell_type": "code",
   "execution_count": null,
   "metadata": {},
   "outputs": [],
   "source": []
  },
  {
   "cell_type": "code",
   "execution_count": null,
   "metadata": {},
   "outputs": [],
   "source": []
  },
  {
   "cell_type": "code",
   "execution_count": null,
   "metadata": {},
   "outputs": [],
   "source": []
  },
  {
   "cell_type": "code",
   "execution_count": null,
   "metadata": {},
   "outputs": [],
   "source": []
  },
  {
   "cell_type": "code",
   "execution_count": null,
   "metadata": {},
   "outputs": [],
   "source": []
  },
  {
   "cell_type": "code",
   "execution_count": null,
   "metadata": {},
   "outputs": [],
   "source": []
  },
  {
   "cell_type": "code",
   "execution_count": null,
   "metadata": {},
   "outputs": [],
   "source": []
  },
  {
   "cell_type": "code",
   "execution_count": null,
   "metadata": {},
   "outputs": [],
   "source": []
  },
  {
   "cell_type": "code",
   "execution_count": null,
   "metadata": {},
   "outputs": [],
   "source": []
  },
  {
   "cell_type": "code",
   "execution_count": null,
   "metadata": {},
   "outputs": [],
   "source": []
  },
  {
   "cell_type": "code",
   "execution_count": null,
   "metadata": {},
   "outputs": [],
   "source": []
  },
  {
   "cell_type": "code",
   "execution_count": null,
   "metadata": {},
   "outputs": [],
   "source": []
  }
 ],
 "metadata": {
  "kernelspec": {
   "display_name": "base",
   "language": "python",
   "name": "python3"
  },
  "language_info": {
   "codemirror_mode": {
    "name": "ipython",
    "version": 3
   },
   "file_extension": ".py",
   "mimetype": "text/x-python",
   "name": "python",
   "nbconvert_exporter": "python",
   "pygments_lexer": "ipython3",
   "version": "3.9.12"
  },
  "vscode": {
   "interpreter": {
    "hash": "9259a07dd554eb6ab4ff8117c34a6cb0e8fbc34f73d3b82564cac66661cacad6"
   }
  }
 },
 "nbformat": 4,
 "nbformat_minor": 2
}
